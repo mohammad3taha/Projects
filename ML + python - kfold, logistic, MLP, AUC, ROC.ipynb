{
 "cells": [
  {
   "cell_type": "markdown",
   "metadata": {},
   "source": [
    "# Homework 3: K-fold & Binary Classification\n",
    "\n",
    "Follow the instructions in the template, score will be given uppon it."
   ]
  },
  {
   "cell_type": "markdown",
   "metadata": {},
   "source": [
    "## Import libraries\n",
    "You are allowed to use these libraries only."
   ]
  },
  {
   "cell_type": "code",
   "execution_count": null,
   "metadata": {
    "ExecuteTime": {
     "end_time": "2021-04-15T09:32:06.113317Z",
     "start_time": "2021-04-15T09:32:05.046832Z"
    }
   },
   "outputs": [],
   "source": [
    "import pandas as pd\n",
    "import numpy as np\n",
    "from numpy import interp\n",
    "import matplotlib.pyplot as plt\n",
    "from sklearn.metrics import roc_curve, auc\n",
    "from sklearn.model_selection import KFold\n",
    "\n",
    "from sklearn.linear_model import LogisticRegression\n",
    "from sklearn.neighbors import KNeighborsClassifier\n",
    "from sklearn.preprocessing import StandardScaler\n",
    "from sklearn import neighbors"
   ]
  },
  {
   "cell_type": "markdown",
   "metadata": {},
   "source": [
    "## Load external data"
   ]
  },
  {
   "cell_type": "code",
   "execution_count": null,
   "metadata": {
    "ExecuteTime": {
     "end_time": "2021-04-15T09:32:08.955622Z",
     "start_time": "2021-04-15T09:32:08.938890Z"
    },
    "scrolled": true
   },
   "outputs": [],
   "source": [
    "data = pd.read_csv(\"Homework 3 data.csv\")\n",
    "print(data.shape)\n",
    "X, y = data.values[:,:-1], data.values[:, -1]\n",
    "print(X.shape)\n",
    "print(y.shape)\n"
   ]
  },
  {
   "cell_type": "markdown",
   "metadata": {},
   "source": [
    "Scale the data using StandardScaler"
   ]
  },
  {
   "cell_type": "code",
   "execution_count": null,
   "metadata": {},
   "outputs": [],
   "source": [
    "scaler = StandardScaler()\n",
    "scaler.fit(X)\n",
    "scaled = scaler.transform(X)\n",
    "sc_df = pd.DataFrame(scaled, columns=data.columns[:-1])\n",
    "sc_df.head()"
   ]
  },
  {
   "cell_type": "markdown",
   "metadata": {},
   "source": [
    "# Part 1: K-fold ROC Plot"
   ]
  },
  {
   "cell_type": "markdown",
   "metadata": {},
   "source": [
    "Write down a function that recives the following argumnets: <br><br>\n",
    "`X` - The input data in the usual format (2d numpy array)<br><br>\n",
    "`y` - The output data in the usual format (1d numpy array)<br><br>\n",
    "`clf` - A sklearn classifier with the methods predict_proba and fit<br><br>\n",
    "`k` - the number of folds as it appears in Kfold.<br><br>\n",
    "\n",
    "The function should return nothing. Instead, it should plot an ROC curve with the calculated AUC. A different curve should be made for each fold (from the K-fold cross validation). In addition, the mean ROC curve should be marked, and its AUC is the one to be presented.\n",
    "An example is presented on k-nn classifier.\n",
    "\n",
    "Small remark: you might find the \"interp\" function helpful in order to calculate the mean ROC curve.<br>\n",
    "We need it because the tpr/fpr values are going to be be different between folds. in order to average over some axis (let's say the fpr) we have to align them. we can do so by interpolating them to a common grid.<br>"
   ]
  },
  {
   "cell_type": "code",
   "execution_count": null,
   "metadata": {
    "ExecuteTime": {
     "end_time": "2021-03-31T09:29:02.288444Z",
     "start_time": "2021-03-31T09:29:02.038398Z"
    }
   },
   "outputs": [],
   "source": [
    "#### example of using np.interp: #####\n",
    "# say we have values x and related values f(x) created by some function f\n",
    "# we want to calculate the values of f in some other locations x_\n",
    "# we can do so by linear interpolation, that is assuming that f is linear between the values we have.\n",
    "# of course this is not always the case but it is a good guess if we have enough points x\n",
    "\n",
    "x = [1,2,3]\n",
    "f_of_x = [0.25, 0.5, 1]\n",
    "\n",
    "# we want to interpolate what will be the value of the function f for x = 1.5, 2.2 and 2.8\n",
    "x_ = [1.5,2.2,2.8]\n",
    "\n",
    "y_interp = interp(x_, x, f_of_x)\n",
    "\n",
    "plt.scatter(x, f_of_x, label=\"real value\")\n",
    "plt.plot(x, f_of_x)\n",
    "plt.scatter(x_, y_interp, label=\"interpolated values\")\n",
    "plt.legend()"
   ]
  },
  {
   "cell_type": "code",
   "execution_count": null,
   "metadata": {},
   "outputs": [],
   "source": [
    "def KfoldPlot(X, y, clf, k):\n",
    "    kf = KFold(n_splits=k)\n",
    "    plt.figure(figsize=(5,5), dpi = 100)\n",
    "    fold = 1\n",
    "    \n",
    "    mean_tpr = 0\n",
    "    mean_fpr = np.linspace(0, 1, 100)\n",
    "    \n",
    "    for train_index, test_index in kf.split(X):\n",
    "        print (\"fold No.\",fold)\n",
    "        X_train, X_test, y_train, y_test = X[train_index], X[test_index], y[train_index], y[test_index]\n",
    "        clf.fit(X_train, y_train)\n",
    "        pred = clf.predict_proba(X_test)[:, 1]\n",
    "        fpr, tpr, threshold = roc_curve(y_test, pred)\n",
    "        ##auc = auc(fpr, tpr)\n",
    "        mean_tpr += interp(mean_fpr, fpr, tpr)\n",
    "        mean_tpr[0] = 0\n",
    "        plt.plot(fpr, tpr, color='#D3D3D3')\n",
    "        \n",
    "        fold+=1\n",
    "    \n",
    "    mean_tpr /= k\n",
    "    auc_ = auc(mean_fpr, mean_tpr)\n",
    "    plt.plot(mean_fpr, mean_tpr, color='red', label='Mean ROC (area = %0.3f)' % auc_)\n",
    "    plt.plot([0, 1], [0, 1], color='navy', linestyle='--')\n",
    "    plt.xlim([0.0, 1.0])\n",
    "    plt.ylim([0.0, 1.0])\n",
    "    plt.title('ROC for'+str(clf))\n",
    "    plt.xlabel(\"False Positive Rate\")\n",
    "    plt.ylabel(\"True Positive Rate\")\n",
    "    \n",
    "    plt.legend()\n",
    "    plt.show()"
   ]
  },
  {
   "cell_type": "markdown",
   "metadata": {
    "collapsed": true
   },
   "source": [
    "### Usage example on knn-classifier"
   ]
  },
  {
   "cell_type": "code",
   "execution_count": 6,
   "metadata": {
    "ExecuteTime": {
     "end_time": "2021-03-31T09:48:41.682725Z",
     "start_time": "2021-03-31T09:48:41.371948Z"
    }
   },
   "outputs": [
    {
     "name": "stdout",
     "output_type": "stream",
     "text": [
      "fold No. 1\n",
      "fold No. 2\n",
      "fold No. 3\n",
      "fold No. 4\n",
      "fold No. 5\n",
      "fold No. 6\n",
      "fold No. 7\n",
      "fold No. 8\n",
      "fold No. 9\n",
      "fold No. 10\n"
     ]
    },
    {
     "data": {
      "image/png": "[encoded data removed]",
      "text/plain": [
       "<Figure size 500x500 with 1 Axes>"
      ]
     },
     "metadata": {
      "needs_background": "light"
     },
     "output_type": "display_data"
    }
   ],
   "source": [
    "knnclf = KNeighborsClassifier(n_neighbors=13, \n",
    "                                     weights=\"uniform\", \n",
    "                                     metric=\"euclidean\",\n",
    "                                     algorithm= \"brute\")\n",
    "\n",
    "KfoldPlot(X, y, knnclf, 10)"
   ]
  },
  {
   "cell_type": "markdown",
   "metadata": {},
   "source": [
    "## Usage\n",
    "Use the function with Logistic Regression classifier"
   ]
  },
  {
   "cell_type": "code",
   "execution_count": 7,
   "metadata": {},
   "outputs": [
    {
     "name": "stdout",
     "output_type": "stream",
     "text": [
      "fold No. 1\n",
      "fold No. 2\n",
      "fold No. 3\n"
     ]
    },
    {
     "name": "stderr",
     "output_type": "stream",
     "text": [
      "C:\\Users\\mtaha\\anaconda3\\lib\\site-packages\\sklearn\\linear_model\\_logistic.py:762: ConvergenceWarning: lbfgs failed to converge (status=1):\n",
      "STOP: TOTAL NO. of ITERATIONS REACHED LIMIT.\n",
      "\n",
      "Increase the number of iterations (max_iter) or scale the data as shown in:\n",
      "    https://scikit-learn.org/stable/modules/preprocessing.html\n",
      "Please also refer to the documentation for alternative solver options:\n",
      "    https://scikit-learn.org/stable/modules/linear_model.html#logistic-regression\n",
      "  n_iter_i = _check_optimize_result(\n",
      "C:\\Users\\mtaha\\anaconda3\\lib\\site-packages\\sklearn\\linear_model\\_logistic.py:762: ConvergenceWarning: lbfgs failed to converge (status=1):\n",
      "STOP: TOTAL NO. of ITERATIONS REACHED LIMIT.\n",
      "\n",
      "Increase the number of iterations (max_iter) or scale the data as shown in:\n",
      "    https://scikit-learn.org/stable/modules/preprocessing.html\n",
      "Please also refer to the documentation for alternative solver options:\n",
      "    https://scikit-learn.org/stable/modules/linear_model.html#logistic-regression\n",
      "  n_iter_i = _check_optimize_result(\n"
     ]
    },
    {
     "name": "stdout",
     "output_type": "stream",
     "text": [
      "fold No. 4\n",
      "fold No. 5\n"
     ]
    },
    {
     "name": "stderr",
     "output_type": "stream",
     "text": [
      "C:\\Users\\mtaha\\anaconda3\\lib\\site-packages\\sklearn\\linear_model\\_logistic.py:762: ConvergenceWarning: lbfgs failed to converge (status=1):\n",
      "STOP: TOTAL NO. of ITERATIONS REACHED LIMIT.\n",
      "\n",
      "Increase the number of iterations (max_iter) or scale the data as shown in:\n",
      "    https://scikit-learn.org/stable/modules/preprocessing.html\n",
      "Please also refer to the documentation for alternative solver options:\n",
      "    https://scikit-learn.org/stable/modules/linear_model.html#logistic-regression\n",
      "  n_iter_i = _check_optimize_result(\n",
      "C:\\Users\\mtaha\\anaconda3\\lib\\site-packages\\sklearn\\linear_model\\_logistic.py:762: ConvergenceWarning: lbfgs failed to converge (status=1):\n",
      "STOP: TOTAL NO. of ITERATIONS REACHED LIMIT.\n",
      "\n",
      "Increase the number of iterations (max_iter) or scale the data as shown in:\n",
      "    https://scikit-learn.org/stable/modules/preprocessing.html\n",
      "Please also refer to the documentation for alternative solver options:\n",
      "    https://scikit-learn.org/stable/modules/linear_model.html#logistic-regression\n",
      "  n_iter_i = _check_optimize_result(\n"
     ]
    },
    {
     "name": "stdout",
     "output_type": "stream",
     "text": [
      "fold No. 6\n",
      "fold No. 7\n"
     ]
    },
    {
     "name": "stderr",
     "output_type": "stream",
     "text": [
      "C:\\Users\\mtaha\\anaconda3\\lib\\site-packages\\sklearn\\linear_model\\_logistic.py:762: ConvergenceWarning: lbfgs failed to converge (status=1):\n",
      "STOP: TOTAL NO. of ITERATIONS REACHED LIMIT.\n",
      "\n",
      "Increase the number of iterations (max_iter) or scale the data as shown in:\n",
      "    https://scikit-learn.org/stable/modules/preprocessing.html\n",
      "Please also refer to the documentation for alternative solver options:\n",
      "    https://scikit-learn.org/stable/modules/linear_model.html#logistic-regression\n",
      "  n_iter_i = _check_optimize_result(\n"
     ]
    },
    {
     "name": "stdout",
     "output_type": "stream",
     "text": [
      "fold No. 8\n",
      "fold No. 9\n"
     ]
    },
    {
     "name": "stderr",
     "output_type": "stream",
     "text": [
      "C:\\Users\\mtaha\\anaconda3\\lib\\site-packages\\sklearn\\linear_model\\_logistic.py:762: ConvergenceWarning: lbfgs failed to converge (status=1):\n",
      "STOP: TOTAL NO. of ITERATIONS REACHED LIMIT.\n",
      "\n",
      "Increase the number of iterations (max_iter) or scale the data as shown in:\n",
      "    https://scikit-learn.org/stable/modules/preprocessing.html\n",
      "Please also refer to the documentation for alternative solver options:\n",
      "    https://scikit-learn.org/stable/modules/linear_model.html#logistic-regression\n",
      "  n_iter_i = _check_optimize_result(\n",
      "C:\\Users\\mtaha\\anaconda3\\lib\\site-packages\\sklearn\\linear_model\\_logistic.py:762: ConvergenceWarning: lbfgs failed to converge (status=1):\n",
      "STOP: TOTAL NO. of ITERATIONS REACHED LIMIT.\n",
      "\n",
      "Increase the number of iterations (max_iter) or scale the data as shown in:\n",
      "    https://scikit-learn.org/stable/modules/preprocessing.html\n",
      "Please also refer to the documentation for alternative solver options:\n",
      "    https://scikit-learn.org/stable/modules/linear_model.html#logistic-regression\n",
      "  n_iter_i = _check_optimize_result(\n"
     ]
    },
    {
     "name": "stdout",
     "output_type": "stream",
     "text": [
      "fold No. 10\n"
     ]
    },
    {
     "name": "stderr",
     "output_type": "stream",
     "text": [
      "C:\\Users\\mtaha\\anaconda3\\lib\\site-packages\\sklearn\\linear_model\\_logistic.py:762: ConvergenceWarning: lbfgs failed to converge (status=1):\n",
      "STOP: TOTAL NO. of ITERATIONS REACHED LIMIT.\n",
      "\n",
      "Increase the number of iterations (max_iter) or scale the data as shown in:\n",
      "    https://scikit-learn.org/stable/modules/preprocessing.html\n",
      "Please also refer to the documentation for alternative solver options:\n",
      "    https://scikit-learn.org/stable/modules/linear_model.html#logistic-regression\n",
      "  n_iter_i = _check_optimize_result(\n"
     ]
    },
    {
     "data": {
      "image/png": "[encoded data removed]",
      "text/plain": [
       "<Figure size 500x500 with 1 Axes>"
      ]
     },
     "metadata": {
      "needs_background": "light"
     },
     "output_type": "display_data"
    }
   ],
   "source": [
    "lr = LogisticRegression()\n",
    "KfoldPlot(X, y, lr, 10)"
   ]
  },
  {
   "cell_type": "markdown",
   "metadata": {},
   "source": [
    "# Part 2"
   ]
  },
  {
   "cell_type": "markdown",
   "metadata": {},
   "source": [
    "The following code downloads the MNIST data set (one of the most common data set in machine learning).<br>\n",
    "It contains images of hand written digits in gray scale. The training data contains 60,000 images (6,000 from each digit), and 10,000 test set. Each image is a 28X28 pixel image (total of 784 pixels).<br>\n",
    "a few examples:<br>\n",
    "<img src=\"https://storage.googleapis.com/tfds-data/visualization/fig/mnist-3.0.1.png\" width=\"200\"/>\n",
    "In this exercise we shall classify the digits 0 and 8. The following code downloads the data set, splits it to train validation and test, and scales each feature (pixel) to have zero mean accross the samples. The labels are changed to -1 (for 0) and 1 (for 8)"
   ]
  },
  {
   "cell_type": "code",
   "execution_count": 8,
   "metadata": {
    "ExecuteTime": {
     "end_time": "2021-03-30T10:31:52.214194Z",
     "start_time": "2021-03-30T10:31:50.394952Z"
    }
   },
   "outputs": [],
   "source": [
    "import sys\n",
    "import os\n",
    "from numpy import *\n",
    "import numpy as np\n",
    "import numpy.random\n",
    "from sklearn.datasets import fetch_openml\n",
    "import sklearn.preprocessing\n",
    "import matplotlib\n",
    "matplotlib.use('Agg')\n",
    "import matplotlib.pyplot as plt\n",
    "%matplotlib inline\n",
    "import pandas as pd\n",
    "from sklearn.metrics import confusion_matrix"
   ]
  },
  {
   "cell_type": "code",
   "execution_count": 9,
   "metadata": {
    "ExecuteTime": {
     "end_time": "2021-03-31T09:43:12.526688Z",
     "start_time": "2021-03-31T09:42:50.353215Z"
    }
   },
   "outputs": [],
   "source": [
    "######### data preparation #########\n",
    "# you may ignore this and only use it's outputs:\n",
    "#\n",
    "# 3 datasets for train, validation and test - \n",
    "#   * train_data, train_labels\n",
    "#   * validation_data, validation_labels\n",
    "#   * test_data, test_labels\n",
    "\n",
    "data, labels = fetch_openml('mnist_784', version=1, return_X_y=True)\n",
    "\n",
    "neg, pos = '0', '8'\n",
    "train_idx = numpy.random.RandomState(0).permutation(\n",
    "    where((labels[:60000] == neg) | (labels[:60000] == pos))[0])\n",
    "test_idx = numpy.random.RandomState(0).permutation(where((labels[60000:] == neg) | (labels[60000:] == pos))[0])\n",
    "\n",
    "train_data = data[train_idx[:6000], :].astype(float)\n",
    "train_labels = (labels[train_idx[:6000]] == pos) * 2 - 1\n",
    "\n",
    "validation_data = data[train_idx[6000:], :].astype(float)\n",
    "validation_labels = (labels[train_idx[6000:]] == pos) * 2 - 1\n",
    "\n",
    "test_data = data[60000 + test_idx, :].astype(float)\n",
    "test_labels = (labels[60000 + test_idx] == pos) * 2 - 1"
   ]
  },
  {
   "cell_type": "markdown",
   "metadata": {},
   "source": [
    "## To visualize a digit, we can use the following code"
   ]
  },
  {
   "cell_type": "code",
   "execution_count": 10,
   "metadata": {
    "ExecuteTime": {
     "end_time": "2021-03-31T09:39:16.470296Z",
     "start_time": "2021-03-31T09:39:16.325472Z"
    }
   },
   "outputs": [
    {
     "data": {
      "image/png": "[encoded data removed]",
      "text/plain": [
       "<Figure size 432x288 with 1 Axes>"
      ]
     },
     "metadata": {
      "needs_background": "light"
     },
     "output_type": "display_data"
    }
   ],
   "source": [
    "digit = train_data[0] #use the scaled data to see what actually is trained on\n",
    "plt.figure(0)\n",
    "plt.imshow(digit.reshape(28, 28), cmap=plt.cm.gray)\n",
    "plt.show()"
   ]
  },
  {
   "cell_type": "markdown",
   "metadata": {},
   "source": [
    "## 1. LogisticRegression (lr)"
   ]
  },
  {
   "cell_type": "markdown",
   "metadata": {},
   "source": [
    "1. Run logistic regression on the train data with 'l2' regularization (a.k.a ridge regularization) with solver='liblinear'. <br> Use the validation data to choose the best regularization parameterr C out of the given list, with respect to accuracy measure.<br> plot the validation accuracy vs the powers array (scale of C) and print the best C value.\n",
    "2. Train Logistic regression on the whole data (train+validation).\n",
    "3. Given that the decision boundary is 0.5, plot the confusion matrix, and print the accuracy of the train data.\n",
    "4. Given that the decision boundary is 0.5, plot the confusion matrix, and print the accuracy of the test data.\n",
    "5. Plot one missclassified 8 digit and one missclassified 0 digit.\n",
    "\n",
    "Comment: you may use the 'confusion_matrix' imported above from sklearn.metrics (not mandatory)"
   ]
  },
  {
   "cell_type": "code",
   "execution_count": 11,
   "metadata": {},
   "outputs": [],
   "source": [
    "from sklearn.linear_model import LogisticRegression\n",
    "powers = range(-10,0)\n",
    "\n",
    "# C is the inverse of the lambda we saw in calss for regularization strength\n",
    "# so small C == strong regularization\n",
    "Cs = [10**p for p in powers]"
   ]
  },
  {
   "cell_type": "markdown",
   "metadata": {},
   "source": [
    "### Choosing the optimal `C`"
   ]
  },
  {
   "cell_type": "code",
   "execution_count": 12,
   "metadata": {
    "ExecuteTime": {
     "end_time": "2021-03-30T08:08:23.059131Z",
     "start_time": "2021-03-30T08:08:23.055895Z"
    }
   },
   "outputs": [
    {
     "data": {
      "image/png": "[encoded data removed]",
      "text/plain": [
       "<Figure size 432x288 with 1 Axes>"
      ]
     },
     "metadata": {
      "needs_background": "light"
     },
     "output_type": "display_data"
    },
    {
     "name": "stdout",
     "output_type": "stream",
     "text": [
      "The optimal C is:  1e-05\n"
     ]
    }
   ],
   "source": [
    "#fill in the code to choose the best C\n",
    "C_opt_lr = 0.0000000000000\n",
    "ac_score = 0.0\n",
    "ac_list = []\n",
    "\n",
    "for c in Cs:\n",
    "    lre = LogisticRegression(penalty=\"l2\", C= c,solver='liblinear')\n",
    "    lre.fit(train_data, train_labels)\n",
    "    score = lre.score(validation_data, validation_labels)\n",
    "    ac_list.append(score)\n",
    "    if score > ac_score:\n",
    "        ac_score = score\n",
    "        C_opt_lr = c\n",
    "\n",
    "plt.plot(powers, ac_list)\n",
    "plt.xlabel(\"power\")\n",
    "plt.ylabel(\"accuracy\")\n",
    "plt.show()\n",
    "print(\"The optimal C is: \",C_opt_lr)\n",
    "\n"
   ]
  },
  {
   "cell_type": "markdown",
   "metadata": {},
   "source": [
    "### Using the lr best model (the one with the optimal `C`)"
   ]
  },
  {
   "cell_type": "code",
   "execution_count": 13,
   "metadata": {},
   "outputs": [
    {
     "name": "stdout",
     "output_type": "stream",
     "text": [
      "train accuracy 0.9968574825887548\n",
      "[[977   3]\n",
      " [ 11 963]]\n",
      "test accuracy: 0.9928352098259979\n"
     ]
    }
   ],
   "source": [
    "lre = LogisticRegression(penalty=\"l2\", C= C_opt_lr, solver='liblinear')\n",
    "lre.fit(np.concatenate((train_data, validation_data)), np.concatenate((train_labels, validation_labels)))\n",
    "print(\"train accuracy\", lre.score(np.concatenate((train_data, validation_data)), np.concatenate((train_labels, validation_labels))))\n",
    "preds = lre.predict(test_data)\n",
    "print(confusion_matrix(test_labels, preds))\n",
    "print(\"test accuracy:\", lre.score(test_data, test_labels))\n",
    "\n"
   ]
  },
  {
   "cell_type": "markdown",
   "metadata": {},
   "source": [
    "### Plotting 2 missclassified digits"
   ]
  },
  {
   "cell_type": "code",
   "execution_count": 26,
   "metadata": {},
   "outputs": [
    {
     "data": {
      "image/png": "[encoded data removed]",
      "text/plain": [
       "<Figure size 432x288 with 1 Axes>"
      ]
     },
     "metadata": {
      "needs_background": "light"
     },
     "output_type": "display_data"
    },
    {
     "data": {
      "image/png": "[encoded data removed]",
      "text/plain": [
       "<Figure size 432x288 with 1 Axes>"
      ]
     },
     "metadata": {
      "needs_background": "light"
     },
     "output_type": "display_data"
    }
   ],
   "source": [
    "incorrect = preds!=test_labels\n",
    "eights = test_labels[incorrect]==1\n",
    "zeros = test_labels[incorrect]==-1\n",
    "\n",
    "digit8 = test_data[incorrect][eights][0]\n",
    "digit0 = test_data[incorrect][zeros][0]\n",
    "plt.figure(0)\n",
    "plt.imshow(digit8.reshape(28, 28), cmap=plt.cm.gray)\n",
    "plt.show()\n",
    "\n",
    "plt.figure(0)\n",
    "plt.imshow(digit0.reshape(28, 28), cmap=plt.cm.gray)\n",
    "plt.show()"
   ]
  },
  {
   "cell_type": "markdown",
   "metadata": {},
   "source": [
    "## 2. Multi Layer Perceptron (MLP)"
   ]
  },
  {
   "cell_type": "markdown",
   "metadata": {},
   "source": [
    "1. Run MLP on the train data with 'l2' regularization (a.k.a ridge regularization) with the following parameters:<br>\n",
    "   `hidden_layer_sizes=(20,), max_iter=200, solver='sgd', verbose=False, tol=1e-4, random_state=1,\n",
    "   learning_rate_init=.1, alpha=?????`<br>\n",
    "   The alpha parameter is the 'l2' coefficient (regularization strength).<br>\n",
    "   * Below you can find possible alpha values. Use the validation data to choose the best one with respect to the accuracy measure.<br>\n",
    "   * plot the validation accuracy vs alpha values (use log scale if needed)\n",
    "   * print the best alpha value.\n",
    "2. Train Logistic regression on the whole data (train+validation).\n",
    "3. Given that the decision boundary is 0.5, plot the confusion matrix, and print the accuracy of the train data.\n",
    "4. Given that the decision boundary is 0.5, plot the confusion matrix, and print the accuracy of the test data.\n",
    "5. Plot one missclassified 8 digit and one missclassified 0 digit.\n",
    "\n",
    "*Comment1*: you may use the 'confusion_matrix' imported above from sklearn.metrics (not mandatory)<br>\n",
    "*Comment2*: to see the loss convergence between epochs, use verbose=True. Just replace it back to False before submission."
   ]
  },
  {
   "cell_type": "code",
   "execution_count": 15,
   "metadata": {},
   "outputs": [],
   "source": [
    "from sklearn.neural_network import MLPClassifier\n",
    "powers = range(-1,5)\n",
    "alphas = [10**(p) for p in powers]"
   ]
  },
  {
   "cell_type": "markdown",
   "metadata": {},
   "source": [
    "### Choosing the optimal alpha"
   ]
  },
  {
   "cell_type": "code",
   "execution_count": 16,
   "metadata": {},
   "outputs": [
    {
     "name": "stderr",
     "output_type": "stream",
     "text": [
      "C:\\Users\\mtaha\\anaconda3\\lib\\site-packages\\sklearn\\neural_network\\_multilayer_perceptron.py:232: RuntimeWarning: overflow encountered in double_scalars\n",
      "  loss += (0.5 * self.alpha) * values / n_samples\n",
      "C:\\Users\\mtaha\\anaconda3\\lib\\site-packages\\sklearn\\utils\\extmath.py:153: RuntimeWarning: overflow encountered in matmul\n",
      "  ret = a @ b\n",
      "C:\\Users\\mtaha\\anaconda3\\lib\\site-packages\\sklearn\\utils\\extmath.py:153: RuntimeWarning: invalid value encountered in matmul\n",
      "  ret = a @ b\n",
      "C:\\Users\\mtaha\\anaconda3\\lib\\site-packages\\sklearn\\neural_network\\_multilayer_perceptron.py:582: ConvergenceWarning: Stochastic Optimizer: Maximum iterations (200) reached and the optimization hasn't converged yet.\n",
      "  warnings.warn(\n",
      "C:\\Users\\mtaha\\anaconda3\\lib\\site-packages\\sklearn\\neural_network\\_multilayer_perceptron.py:232: RuntimeWarning: overflow encountered in double_scalars\n",
      "  loss += (0.5 * self.alpha) * values / n_samples\n",
      "C:\\Users\\mtaha\\anaconda3\\lib\\site-packages\\sklearn\\utils\\extmath.py:153: RuntimeWarning: overflow encountered in matmul\n",
      "  ret = a @ b\n",
      "C:\\Users\\mtaha\\anaconda3\\lib\\site-packages\\sklearn\\utils\\extmath.py:153: RuntimeWarning: invalid value encountered in matmul\n",
      "  ret = a @ b\n",
      "C:\\Users\\mtaha\\anaconda3\\lib\\site-packages\\sklearn\\neural_network\\_multilayer_perceptron.py:127: RuntimeWarning: overflow encountered in multiply\n",
      "  coef_grads[layer] += (self.alpha * self.coefs_[layer])\n",
      "C:\\Users\\mtaha\\anaconda3\\lib\\site-packages\\sklearn\\neural_network\\_multilayer_perceptron.py:582: ConvergenceWarning: Stochastic Optimizer: Maximum iterations (200) reached and the optimization hasn't converged yet.\n",
      "  warnings.warn(\n"
     ]
    },
    {
     "data": {
      "image/png": "[encoded data removed]",
      "text/plain": [
       "<Figure size 432x288 with 1 Axes>"
      ]
     },
     "metadata": {
      "needs_background": "light"
     },
     "output_type": "display_data"
    },
    {
     "name": "stdout",
     "output_type": "stream",
     "text": [
      "The optimal alpha is:  1\n"
     ]
    }
   ],
   "source": [
    "#fill in the code to choose the best alpha\n",
    "acc = []\n",
    "best_acc = -100\n",
    "alpha_opt_mlp = 0.0\n",
    "\n",
    "for a in alphas:\n",
    "    mlp = MLPClassifier(hidden_layer_sizes=(20,), max_iter=200, solver='sgd', verbose=False, tol=1e-4, random_state=1,learning_rate_init=.1, alpha=a)\n",
    "    mlp.fit(train_data, train_labels)\n",
    "    score = mlp.score(validation_data, validation_labels)\n",
    "    acc.append(score)\n",
    "    if score > best_acc:\n",
    "        best_acc = score\n",
    "        alpha_opt_mlp = a\n",
    "\n",
    "plt.plot(powers, acc)\n",
    "plt.xlabel(\"alpha\")\n",
    "plt.ylabel(\"accuracy\")\n",
    "plt.show()\n",
    "print(\"The optimal alpha is: \",alpha_opt_mlp)\n"
   ]
  },
  {
   "cell_type": "markdown",
   "metadata": {},
   "source": [
    "### Using the best MLP model"
   ]
  },
  {
   "cell_type": "code",
   "execution_count": 27,
   "metadata": {},
   "outputs": [
    {
     "name": "stdout",
     "output_type": "stream",
     "text": [
      "train accuracy: 0.4969424154917615\n",
      "[[  0 980]\n",
      " [  0 974]]\n",
      "test accuracy: 0.4984646878198567\n"
     ]
    }
   ],
   "source": [
    "mlp = MLPClassifier(hidden_layer_sizes=(20,), max_iter=200, solver='sgd', verbose=False, tol=1e-4, random_state=1,learning_rate_init=.1, alpha=alpha_opt_mlp)\n",
    "mlp.fit(np.concatenate((train_data,validation_data)), np.concatenate((train_labels,validation_labels)))\n",
    "predicts = mlp.predict(test_data)\n",
    "print(\"train accuracy:\", mlp.score(np.concatenate((train_data, validation_data)), np.concatenate((train_labels, validation_labels))))\n",
    "print(confusion_matrix(test_labels, predicts))\n",
    "print(\"test accuracy:\", mlp.score(test_data, test_labels))"
   ]
  },
  {
   "cell_type": "markdown",
   "metadata": {},
   "source": [
    "### plotting 2 missclassified digits"
   ]
  },
  {
   "cell_type": "code",
   "execution_count": 33,
   "metadata": {},
   "outputs": [
    {
     "data": {
      "image/png": "[encoded data removed]",
      "text/plain": [
       "<Figure size 432x288 with 1 Axes>"
      ]
     },
     "metadata": {
      "needs_background": "light"
     },
     "output_type": "display_data"
    }
   ],
   "source": [
    "incorrect_mlp = predicts!=test_labels\n",
    "eights = test_labels[incorrect_mlp]==1\n",
    "zeros = test_labels[incorrect_mlp]==-1\n",
    "\n",
    "##d8igit_mlp = test_data[incorrect_mlp][eights][0]\n",
    "##plt.figure(0)\n",
    "##plt.imshow(digit8_mlp.reshape(28, 28), cmap=plt.cm.gray)\n",
    "##plt.show()\n",
    "\n",
    "digit0_mlp = test_data[incorrect_mlp][zeros][0]\n",
    "plt.figure(0)\n",
    "plt.imshow(digit0_mlp.reshape(28, 28), cmap=plt.cm.gray)\n",
    "plt.show()"
   ]
  },
  {
   "cell_type": "code",
   "execution_count": null,
   "metadata": {},
   "outputs": [],
   "source": []
  }
 ],
 "metadata": {
  "anaconda-cloud": {},
  "kernelspec": {
   "display_name": "Python 3",
   "language": "python",
   "name": "python3"
  },
  "language_info": {
   "codemirror_mode": {
    "name": "ipython",
    "version": 3
   },
   "file_extension": ".py",
   "mimetype": "text/x-python",
   "name": "python",
   "nbconvert_exporter": "python",
   "pygments_lexer": "ipython3",
   "version": "3.8.5"
  },
  "toc": {
   "base_numbering": 1,
   "nav_menu": {},
   "number_sections": true,
   "sideBar": true,
   "skip_h1_title": false,
   "title_cell": "Table of Contents",
   "title_sidebar": "Contents",
   "toc_cell": false,
   "toc_position": {},
   "toc_section_display": true,
   "toc_window_display": true
  }
 },
 "nbformat": 4,
 "nbformat_minor": 1
}
